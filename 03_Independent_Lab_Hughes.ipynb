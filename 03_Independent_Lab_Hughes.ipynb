{
 "cells": [
  {
   "cell_type": "markdown",
   "id": "0c945ffd-87c5-41d3-9d46-18f37ca8a013",
   "metadata": {},
   "source": [
    "Independent Lab - Self-Service Kiosk Logic\n",
    "\n",
    "Course: Python Programming\n",
    "Assignment: Independent Lab - Self-Service Kiosk\n",
    "Author: Lewis Hughes\n",
    "Submission Date: 03/17/25\n",
    "\n",
    "Welcome to the self-service kiosk!"
   ]
  },
  {
   "cell_type": "code",
   "execution_count": 3,
   "id": "cb842aaa-9870-4a91-8c82-eb6b59a0f901",
   "metadata": {},
   "outputs": [],
   "source": [
    "#Definig products and prices\n",
    "products = {\n",
    "    1: (\"Economy Class Ticket\", 200.00),\n",
    "    2: (\"Business Class Ticket\", 450.00),\n",
    "    3: (\"First Class Ticket\", 900.00),\n",
    "    4: (\"Round Trip - Economy\", 380.00),\n",
    "    5: (\"Round Trip - Business\", 850.00)\n",
    "}"
   ]
  },
  {
   "cell_type": "code",
   "execution_count": 4,
   "id": "aab40d4a-caea-4287-8e50-ebe24056da55",
   "metadata": {},
   "outputs": [
    {
     "name": "stdout",
     "output_type": "stream",
     "text": [
      "Welcome! This kiosk sells plane tickets for your travel needs.\n",
      "Please place your order by selecting the ticket type and subsequently providing the quantity desired.\n",
      "\n",
      "Here are the ticket options:\n",
      "|   | Product                        | Price   |\n",
      "| 1 | Economy Class Ticket           | $200.00 |\n",
      "| 2 | Business Class Ticket          | $450.00 |\n",
      "| 3 | First Class Ticket             | $900.00 |\n",
      "| 4 | Round Trip - Economy           | $380.00 |\n",
      "| 5 | Round Trip - Business          | $850.00 |\n"
     ]
    }
   ],
   "source": [
    "#Initialize order summary\n",
    "total_cost = 0\n",
    "order_summary = {product: 0 for product in products.keys()}\n",
    "\n",
    "print(\"Welcome! This kiosk sells plane tickets for your travel needs.\")\n",
    "print(\"Please place your order by selecting the ticket type and subsequently providing the quantity desired.\\n\")\n",
    "print(\"Here are the ticket options:\")\n",
    "print(\"|   | Product                        | Price   |\")\n",
    "for key, (name, price) in products.items():\n",
    "    print(f\"| {key} | {name.ljust(30)} | ${price:.2f} |\")"
   ]
  },
  {
   "cell_type": "code",
   "execution_count": 5,
   "id": "6a1a096b-c6b6-4b71-a608-04648d5dfe9c",
   "metadata": {},
   "outputs": [
    {
     "name": "stdin",
     "output_type": "stream",
     "text": [
      "\n",
      "What would you like to purchase? (Enter product number):  3\n",
      "How many would you like to purchase?  2\n"
     ]
    },
    {
     "name": "stdout",
     "output_type": "stream",
     "text": [
      "\n",
      "You want 2 of First Class Ticket.\n",
      "The current total for your order is $1800.00\n",
      "\n"
     ]
    },
    {
     "name": "stdin",
     "output_type": "stream",
     "text": [
      "If you are finished ordering, please input 1; otherwise, if you would like to add to your order, please input 2:  1\n"
     ]
    }
   ],
   "source": [
    "#Order process\n",
    "while True:\n",
    "    try:\n",
    "        choice = int(input(\"\\nWhat would you like to purchase? (Enter product number): \"))\n",
    "        if choice in products:\n",
    "            quantity = int(input(\"How many would you like to purchase? \"))\n",
    "            order_summary[choice] += quantity\n",
    "            total_cost += products[choice][1] * quantity\n",
    "            print(f\"\\nYou want {quantity} of {products[choice][0]}.\")\n",
    "            print(f\"The current total for your order is ${total_cost:.2f}\\n\")\n",
    "        else:\n",
    "            print(\"That is not an option. Please try again.\")\n",
    "            continue\n",
    "        \n",
    "        # Prompt user to continue or end order\n",
    "        cont = int(input(\"If you are finished ordering, please input 1; otherwise, if you would like to add to your order, please input 2: \"))\n",
    "        if cont == 1:\n",
    "            break\n",
    "    except ValueError:\n",
    "        print(\"Invalid input. Please enter a valid number.\")"
   ]
  },
  {
   "cell_type": "code",
   "execution_count": 6,
   "id": "a87c9c56-82c3-4ba5-b620-4dd4bd0c3a70",
   "metadata": {},
   "outputs": [
    {
     "name": "stdout",
     "output_type": "stream",
     "text": [
      "\n",
      "Here is a summary of your final order:\n",
      "| Product                        | Quantity |\n",
      "| First Class Ticket             |     2     |\n",
      "\n",
      "The total cost for your order is $1800.00\n"
     ]
    }
   ],
   "source": [
    "#Final summary \n",
    "print(\"\\nHere is a summary of your final order:\")\n",
    "print(\"| Product                        | Quantity |\")\n",
    "for key, quantity in order_summary.items():\n",
    "    if quantity > 0:\n",
    "        print(f\"| {products[key][0].ljust(30)} | {quantity:^9} |\")\n",
    "\n",
    "print(f\"\\nThe total cost for your order is ${total_cost:.2f}\")"
   ]
  },
  {
   "cell_type": "markdown",
   "id": "807b91e9-a60c-4bd5-bde2-94d52cf7e97d",
   "metadata": {},
   "source": [
    "References\n",
    "\n",
    "https://stackoverflow.com/questions/55560456/shopping-cost-total-in-python?\n",
    "\n",
    "https://www.w3resource.com/python-exercises/oop/python-oop-exercise-8.php?\n",
    "\n",
    "I used this stack overflow question page and python exercise page to help format my order process and final summary code."
   ]
  }
 ],
 "metadata": {
  "kernelspec": {
   "display_name": "Python 3 (ipykernel)",
   "language": "python",
   "name": "python3"
  },
  "language_info": {
   "codemirror_mode": {
    "name": "ipython",
    "version": 3
   },
   "file_extension": ".py",
   "mimetype": "text/x-python",
   "name": "python",
   "nbconvert_exporter": "python",
   "pygments_lexer": "ipython3",
   "version": "3.13.2"
  }
 },
 "nbformat": 4,
 "nbformat_minor": 5
}
