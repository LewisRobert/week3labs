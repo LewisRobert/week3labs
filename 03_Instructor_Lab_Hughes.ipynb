{
 "cells": [
  {
   "cell_type": "raw",
   "id": "1adacdaa-89c4-4187-a11c-83cb573f53fa",
   "metadata": {},
   "source": [
    "Intro to Python\n",
    "Instructor Led Lab\n",
    "Lewis Hughes \n",
    "03/17/25\n",
    "\n",
    "Welcome to my Farhenheit to Celsius and Kelvin converter! "
   ]
  },
  {
   "cell_type": "code",
   "execution_count": 1,
   "id": "6c9f0010-a532-446c-bee1-1afb0ad01faa",
   "metadata": {},
   "outputs": [
    {
     "name": "stdin",
     "output_type": "stream",
     "text": [
      "Please provide a value, in Celsius to convert:\n",
      " 32\n"
     ]
    }
   ],
   "source": [
    "celsius = float(input(\"Please provide a value, in Celsius to convert:\\n\"))"
   ]
  },
  {
   "cell_type": "code",
   "execution_count": 2,
   "id": "2ec3feaa-8ca4-4aac-901d-9fa0a1f5db05",
   "metadata": {},
   "outputs": [],
   "source": [
    "fahrenheit = (9/5) * celsius + 32"
   ]
  },
  {
   "cell_type": "code",
   "execution_count": 3,
   "id": "4f062257-57ab-46c7-b81b-234fc88fd342",
   "metadata": {},
   "outputs": [],
   "source": [
    "kelvin = celsius + 273.15"
   ]
  },
  {
   "cell_type": "code",
   "execution_count": 5,
   "id": "65e5f2b7-5647-48ed-8bf3-819ca1558853",
   "metadata": {},
   "outputs": [
    {
     "name": "stdout",
     "output_type": "stream",
     "text": [
      "32.0 degrees Celsius is 89.6 degrees Fahrenheit which is 305.15 degrees Kelvin.\n"
     ]
    }
   ],
   "source": [
    "print(f\"{celsius} degrees Celsius is {fahrenheit} degrees Fahrenheit which is {kelvin} degrees Kelvin.\")"
   ]
  },
  {
   "cell_type": "code",
   "execution_count": 7,
   "id": "a60e5b81-692d-414b-a15e-53d5cb210ee6",
   "metadata": {},
   "outputs": [
    {
     "name": "stdin",
     "output_type": "stream",
     "text": [
      "Please provide another value, in Celsius, to convert:\n",
      " 56\n"
     ]
    }
   ],
   "source": [
    "celsius_two = float(input(\"Please provide another value, in Celsius, to convert:\\n\"))"
   ]
  },
  {
   "cell_type": "code",
   "execution_count": 8,
   "id": "80df54eb-2fbb-4340-9c13-fcf12bd7b86e",
   "metadata": {},
   "outputs": [],
   "source": [
    "fahrenheit_two = (9/5) * celsius_two + 32"
   ]
  },
  {
   "cell_type": "code",
   "execution_count": 9,
   "id": "7f225484-db41-4e80-b9a8-2686764bb3fc",
   "metadata": {},
   "outputs": [],
   "source": [
    "kelvin_two = celsius_two + 273.15"
   ]
  },
  {
   "cell_type": "code",
   "execution_count": 10,
   "id": "4ab0a8ba-9b24-4338-8e71-f42efacad423",
   "metadata": {},
   "outputs": [
    {
     "name": "stdout",
     "output_type": "stream",
     "text": [
      "Second set of values: 56.0 degrees Celsius is 132.8 degrees Fahrenheir which is 329.15 degrees Kelvin.\n"
     ]
    }
   ],
   "source": [
    "print(f\"Second set of values: {celsius_two} degrees Celsius is {fahrenheit_two} degrees Fahrenheir which is {kelvin_two} degrees Kelvin.\")"
   ]
  },
  {
   "cell_type": "code",
   "execution_count": 12,
   "id": "c68f6397-4002-4e42-8fc5-522a112e5e50",
   "metadata": {},
   "outputs": [
    {
     "name": "stdout",
     "output_type": "stream",
     "text": [
      "The original Celsius value of 32.0 is smaller than the new value of 56.0.\n"
     ]
    }
   ],
   "source": [
    "if celsius > celsius_two:\n",
    "    print(f\"The original Celsius value of {celsius} is larger than the new value of {celsius_two}.\")\n",
    "elif celsius < celsius_two:\n",
    "    print(f\"The original Celsius value of {celsius} is smaller than the new value of {celsius_two}.\")\n",
    "else:\n",
    "    print(f\"The original Celsius value of {celsius} equals the new value of {celsius_two}.\")"
   ]
  },
  {
   "cell_type": "code",
   "execution_count": 14,
   "id": "bcbc4a27-1ba4-47ac-aeec-d9ccbcb94c3d",
   "metadata": {},
   "outputs": [
    {
     "name": "stdout",
     "output_type": "stream",
     "text": [
      "The original Fahrenheit value of 89.6 is smaller than the new value of 132.8.\n"
     ]
    }
   ],
   "source": [
    "if fahrenheit >= fahrenheit_two:\n",
    "    print(f\"The original Fahrenheit value of {fahrenheit} is greater than or equal to the new value of {fahrenheit_two}.\")\n",
    "elif celsius < celsius_two:\n",
    "    print(f\"The original Fahrenheit value of {fahrenheit} is smaller than the new value of {fahrenheit_two}.\")\n",
    "else:\n",
    "    print(f\"The original Fahrenheit value of {fahrenheit} is equal to the new value of {fahrenheit_two}.\")"
   ]
  },
  {
   "cell_type": "code",
   "execution_count": 15,
   "id": "3be3ec0d-611c-4608-a493-9956de54510b",
   "metadata": {},
   "outputs": [
    {
     "name": "stdout",
     "output_type": "stream",
     "text": [
      "The original Kelvin value of 305.15 is less than or equal to the new value of 329.15.\n"
     ]
    }
   ],
   "source": [
    "if kelvin <= kelvin_two:\n",
    "    print(f\"The original Kelvin value of {kelvin} is less than or equal to the new value of {kelvin_two}.\")\n",
    "elif kelvin < kelvin_two:\n",
    "    print(f\"The original Kelvin value of {kelvin} is smaller than the new value of {kelvin_two}.\")\n",
    "else:\n",
    "    print(f\"The original Kelvin value of {kelvin} is not equal the new value of {kelvin_two}.\")"
   ]
  },
  {
   "cell_type": "code",
   "execution_count": 17,
   "id": "cda34524-42d0-4e09-8dbb-acfb504dd23f",
   "metadata": {},
   "outputs": [
    {
     "name": "stdout",
     "output_type": "stream",
     "text": [
      "\n",
      "celsius == celsius_two and fahrenheit < fahrenheit_two\n",
      "Python lies.\n"
     ]
    }
   ],
   "source": [
    "print(\"\\ncelsius == celsius_two and fahrenheit < fahrenheit_two\")\n",
    "if celsius == celsius_two and fahrenheir < fahrenheit_two:\n",
    "    print(\"Python speaks the truth!\")\n",
    "else:\n",
    "    print(\"Python lies.\")"
   ]
  },
  {
   "cell_type": "code",
   "execution_count": 18,
   "id": "6c361bb0-d730-41a3-89b0-11799acba4f8",
   "metadata": {},
   "outputs": [
    {
     "name": "stdout",
     "output_type": "stream",
     "text": [
      "\n",
      "celsius == celsius_two or kelvin != kelvin_two\n",
      "Python speaks the truth!\n"
     ]
    }
   ],
   "source": [
    "print(\"\\ncelsius == celsius_two or kelvin != kelvin_two\")\n",
    "if celsius == celsius_two or kelvin != kelvin_two:\n",
    "    print(\"Python speaks the truth!\")\n",
    "else:\n",
    "    print(\"Python lies.\")"
   ]
  }
 ],
 "metadata": {
  "kernelspec": {
   "display_name": "Python 3 (ipykernel)",
   "language": "python",
   "name": "python3"
  },
  "language_info": {
   "codemirror_mode": {
    "name": "ipython",
    "version": 3
   },
   "file_extension": ".py",
   "mimetype": "text/x-python",
   "name": "python",
   "nbconvert_exporter": "python",
   "pygments_lexer": "ipython3",
   "version": "3.13.2"
  }
 },
 "nbformat": 4,
 "nbformat_minor": 5
}
